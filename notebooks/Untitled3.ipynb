{
 "cells": [
  {
   "cell_type": "code",
   "execution_count": null,
   "id": "0",
   "metadata": {},
   "outputs": [],
   "source": [
    "from rdkit import Chem\n",
    "from rdkit.Chem.rdmolfiles import MolToXYZFile\n",
    "\n",
    "from cct.rdkit.conformers import embed\n",
    "\n",
    "mol = Chem.MolFromSmiles(\"CN1CCN(CC1)C2=NC3=C(C=C2)N(C(=O)N3C)CCC4=CC=CC=C4\")\n",
    "mol = Chem.AddHs(mol)\n",
    "embed(mol)\n",
    "charge = Chem.GetFormalCharge(mol)\n",
    "\n",
    "MolToXYZFile(mol, \"/tmp/bla/mol.xyz\")\n",
    "!cat /tmp/bla/mol.xyz"
   ]
  },
  {
   "cell_type": "code",
   "execution_count": null,
   "id": "1",
   "metadata": {},
   "outputs": [],
   "source": [
    "from ase.io import read, write\n",
    "from ase.optimize import BFGS\n",
    "from tblite.ase import TBLite\n",
    "\n",
    "atoms = read(\"/tmp/bla/mol.xyz\")\n",
    "atoms.calc = TBLite(method=\"GFN2-xTB\", solvation=None)\n",
    "opt = BFGS(atoms)\n",
    "opt.run(fmax=0.05)\n",
    "write(\"/tmp/bla/molopt.xyz\", atoms)"
   ]
  },
  {
   "cell_type": "code",
   "execution_count": null,
   "id": "2",
   "metadata": {},
   "outputs": [],
   "source": [
    "!cd /tmp/bla && crest mol.xyz --opt --chrg 0 --uhf 0 --alpb h2o --gfn 2\n",
    "!cd /tmp/bla && crest molopt.xyz --gfn2 -chrg 0 --uhf 0 -T 14"
   ]
  },
  {
   "cell_type": "code",
   "execution_count": null,
   "id": "3",
   "metadata": {},
   "outputs": [],
   "source": [
    "!cat /tmp/bla/crestopt.log"
   ]
  },
  {
   "cell_type": "code",
   "execution_count": null,
   "id": "4",
   "metadata": {},
   "outputs": [],
   "source": [
    "_do_csearch(mol, \"/tmp/bla\")"
   ]
  },
  {
   "cell_type": "code",
   "execution_count": null,
   "id": "5",
   "metadata": {},
   "outputs": [],
   "source": [
    "import os\n",
    "import subprocess as sp\n",
    "\n",
    "from rdkit import Chem\n",
    "from rdkit.Chem.rdmolfiles import MolToXYZFile\n",
    "\n",
    "\n",
    "def _do_csearch(\n",
    "    mol,  # RDKit Mol object with conformer\n",
    "    directory,\n",
    "    gfn=2,\n",
    "    nprocs=1,\n",
    "    logfile=None,\n",
    "    noncovalent=False,\n",
    "    constraints=None,\n",
    "    additional_flags=None,\n",
    "    charge=0,\n",
    "    multiplicity=1,\n",
    "):\n",
    "    assert isinstance(mol, Chem.Mol), \"Input must be an RDKit Mol object.\"\n",
    "    assert mol.GetNumConformers() > 0, \"Mol must have at least one conformer.\"\n",
    "    assert isinstance(directory, str)\n",
    "    assert isinstance(nprocs, int)\n",
    "    if logfile is not None:\n",
    "        assert isinstance(logfile, str)\n",
    "    assert gfn in [2, 1, \"ff\"], \"Invalid value for `gfn`.\"\n",
    "\n",
    "    os.makedirs(directory, exist_ok=True)\n",
    "    xyz_path = os.path.join(directory, \"xtb-in.xyz\")\n",
    "    MolToXYZFile(mol, xyz_path)\n",
    "\n",
    "    nci = \"-nci\" if noncovalent else \"\"\n",
    "\n",
    "    # Prepare crest command\n",
    "    if constraints is not None:\n",
    "        assert isinstance(constraints, list)\n",
    "        assert all(isinstance(n, int) for n in constraints)\n",
    "        # First create constrained input file with --constrain\n",
    "        constrain_cmd = (\n",
    "            f\"crest xtb-in.xyz --constrain {','.join(str(c) for c in constraints)}\"\n",
    "        )\n",
    "        result = sp.run(\n",
    "            constrain_cmd, stdout=sp.PIPE, stderr=sp.PIPE, cwd=directory, shell=True\n",
    "        )\n",
    "        result.check_returncode()\n",
    "        command = (\n",
    "            f\"crest xtb-in.xyz --gfn{gfn} --chrg {charge} -cinp .xcontrol.sample \"\n",
    "            f\"--uhf {multiplicity - 1} -T {nprocs} {nci}\"\n",
    "        )\n",
    "    else:\n",
    "        command = (\n",
    "            f\"crest xtb-in.xyz --gfn{gfn} --chrg {charge} \"\n",
    "            f\"--uhf {multiplicity - 1} -T {nprocs} {nci}\"\n",
    "        )\n",
    "\n",
    "    if additional_flags:\n",
    "        command += f\" {additional_flags}\"\n",
    "\n",
    "    # Run CREST\n",
    "    if logfile:\n",
    "        with open(logfile, \"w\") as f:\n",
    "            result = sp.run(command, stdout=f, stderr=f, cwd=directory, shell=True)\n",
    "    else:\n",
    "        result = sp.run(\n",
    "            command, stdout=sp.PIPE, stderr=sp.PIPE, cwd=directory, shell=True\n",
    "        )\n",
    "    result.check_returncode()\n",
    "\n",
    "    # Read ensemble\n",
    "    ensemble_path = os.path.join(directory, \"crest_conformers.xyz\")\n",
    "    if not os.path.isfile(ensemble_path):\n",
    "        raise FileNotFoundError(f\"{ensemble_path} not found after CREST run.\")\n",
    "\n",
    "    return ensemble_path  # or parse it into RDKit mols or structures if needed"
   ]
  },
  {
   "cell_type": "code",
   "execution_count": null,
   "id": "6",
   "metadata": {},
   "outputs": [],
   "source": []
  }
 ],
 "metadata": {
  "kernelspec": {
   "display_name": "Python 3 (ipykernel)",
   "language": "python",
   "name": "python3"
  },
  "language_info": {
   "codemirror_mode": {
    "name": "ipython",
    "version": 3
   },
   "file_extension": ".py",
   "mimetype": "text/x-python",
   "name": "python",
   "nbconvert_exporter": "python",
   "pygments_lexer": "ipython3",
   "version": "3.12.11"
  }
 },
 "nbformat": 4,
 "nbformat_minor": 5
}
