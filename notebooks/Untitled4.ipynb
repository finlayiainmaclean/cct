{
 "cells": [
  {
   "cell_type": "code",
   "execution_count": null,
   "id": "0",
   "metadata": {},
   "outputs": [],
   "source": [
    "import numpy as np\n",
    "from rdkit import Chem\n",
    "from rdkit.Chem.MolStandardize import rdMolStandardize\n",
    "\n",
    "from cct.consts import EV2KCALMOL\n",
    "from cct.energy import CalculatorFactory\n",
    "from cct.rdkit.conformers import embed\n",
    "\n",
    "initial_energy_threshold = 5.0\n",
    "\n",
    "calcs = CalculatorFactory()\n",
    "enumerator = rdMolStandardize.TautomerEnumerator()\n",
    "\n",
    "mol = Chem.MolFromSmiles(\"N1=CC=N[NH]1\")\n",
    "tauts = enumerator.Enumerate(mol)\n",
    "tauts = list(tauts.tautomers)\n",
    "charge = Chem.GetFormalCharge(tauts[0])\n",
    "\n",
    "multiplicity = 1\n",
    "optimised_tauts = []\n",
    "energies = []\n",
    "for taut in tauts:\n",
    "    taut = Chem.AddHs(taut, addCoords=True)\n",
    "    taut = embed(taut, num_confs=1)\n",
    "\n",
    "    calcs._optimise(taut, method=\"GFN2-xTB\", multiplicity=multiplicity, charge=charge)\n",
    "    gas_energy = calcs._singlepoint(\n",
    "        taut, method=\"EGRET1\", multiplicity=multiplicity, charge=charge\n",
    "    )\n",
    "    solvation_energy = calcs.solvation_energy(\n",
    "        taut, solvent=\"water\", multiplicity=multiplicity, charge=charge\n",
    "    )\n",
    "    energy = gas_energy + solvation_energy\n",
    "    energies.append(energy)\n",
    "    optimised_tauts.append(taut)\n",
    "\n",
    "energies = np.array(energies) * EV2KCALMOL\n",
    "relative_energies = energies - np.min(energies)\n",
    "\n",
    "low_energy_mask = relative_energies < initial_energy_threshold\n",
    "low_energy_tauts = np.array(optimised_tauts)[low_energy_mask]\n",
    "\n",
    "for taut in low_energy_tauts:\n",
    "    mol = _generate_conformers_rdkit(\n",
    "        taut, mode=mode, multiplicity=multiplicity, charge=charge, num_cores=num_cores\n",
    "    )"
   ]
  }
 ],
 "metadata": {
  "kernelspec": {
   "display_name": "Python 3 (ipykernel)",
   "language": "python",
   "name": "python3"
  },
  "language_info": {
   "codemirror_mode": {
    "name": "ipython",
    "version": 3
   },
   "file_extension": ".py",
   "mimetype": "text/x-python",
   "name": "python",
   "nbconvert_exporter": "python",
   "pygments_lexer": "ipython3",
   "version": "3.12.11"
  }
 },
 "nbformat": 4,
 "nbformat_minor": 5
}
