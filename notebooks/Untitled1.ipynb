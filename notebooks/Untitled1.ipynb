{
 "cells": [
  {
   "cell_type": "code",
   "execution_count": null,
   "id": "0",
   "metadata": {},
   "outputs": [],
   "source": [
    "from rdkit.Chem import AllChem\n",
    "\n",
    "from cct.rdkit.fs.read import *\n",
    "from cct.rdkit.fs.write import *\n",
    "\n",
    "mols = []\n",
    "\n",
    "for i in range(1):\n",
    "    mol = Chem.MolFromSmiles(\"C=C\")\n",
    "    mol = Chem.AddHs(mol)\n",
    "    mol.SetProp(\"m\", str(i))\n",
    "    mol.SetProp(\"mj\", str(i**2))\n",
    "    AllChem.EmbedMolecule(mol)\n",
    "    mols.append(mol)"
   ]
  },
  {
   "cell_type": "code",
   "execution_count": null,
   "id": "1",
   "metadata": {},
   "outputs": [],
   "source": [
    "write_molecules(\"/tmp/bla.pdb\", mols=mols)"
   ]
  },
  {
   "cell_type": "code",
   "execution_count": null,
   "id": "2",
   "metadata": {},
   "outputs": [],
   "source": [
    "mols = read_molecules(\"/tmp/bla.pdb\")"
   ]
  },
  {
   "cell_type": "code",
   "execution_count": null,
   "id": "3",
   "metadata": {},
   "outputs": [],
   "source": [
    "mols[0]"
   ]
  },
  {
   "cell_type": "code",
   "execution_count": null,
   "id": "4",
   "metadata": {},
   "outputs": [],
   "source": [
    "from io import StringIO\n",
    "\n",
    "from ase.io import read\n",
    "\n",
    "xyz_string = \"\"\"5\n",
    "water molecule\n",
    "O       0.000000     0.000000     0.000000\n",
    "H       0.000000     0.757000     0.586000\n",
    "H       0.000000    -0.757000     0.586000\n",
    "O       1.000000     1.000000     1.000000\n",
    "H       1.000000     1.757000     1.586000\n",
    "\"\"\"\n",
    "\n",
    "# Use StringIO to simulate a file-like object\n",
    "atoms = read(StringIO(xyz_string), format=\"xyz\")"
   ]
  },
  {
   "cell_type": "code",
   "execution_count": null,
   "id": "5",
   "metadata": {},
   "outputs": [],
   "source": []
  }
 ],
 "metadata": {
  "kernelspec": {
   "display_name": "Python 3 (ipykernel)",
   "language": "python",
   "name": "python3"
  },
  "language_info": {
   "codemirror_mode": {
    "name": "ipython",
    "version": 3
   },
   "file_extension": ".py",
   "mimetype": "text/x-python",
   "name": "python",
   "nbconvert_exporter": "python",
   "pygments_lexer": "ipython3",
   "version": "3.12.11"
  }
 },
 "nbformat": 4,
 "nbformat_minor": 5
}
