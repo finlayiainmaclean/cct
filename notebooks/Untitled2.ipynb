{
 "cells": [
  {
   "cell_type": "code",
   "execution_count": null,
   "id": "0",
   "metadata": {},
   "outputs": [],
   "source": [
    "from rdkit import Chem\n",
    "\n",
    "from cct.energy.energy import CalculatorFactory\n",
    "from cct.rdkit.conformers import embed, sort_conformers_by_sdtag\n",
    "from cct.rdkit.crest import filter_using_cregen\n",
    "\n",
    "num_confs = 1000\n",
    "multiplicity = 1\n",
    "\n",
    "mol = Chem.MolFromSmiles(\"CC(C)Cc1ccc(C(C)C(O)=O)cc1\")\n",
    "calcs = CalculatorFactory()\n",
    "\n",
    "mol = Chem.AddHs(mol)\n",
    "\n",
    "charge = Chem.GetFormalCharge(mol)\n",
    "mol = embed(mol, num_confs=num_confs, rms_threshold=0.01)\n",
    "print(mol.GetNumConformers())\n",
    "mol = filter_using_cregen(mol, charge=charge, multiplicity=multiplicity)\n",
    "print(mol.GetNumConformers())\n",
    "energies = calcs.optimise(\n",
    "    mol, method=\"EGRET1\", charge=charge, multiplicity=multiplicity\n",
    ")\n",
    "print(mol.GetNumConformers())\n",
    "mol = sort_conformers_by_sdtag(mol, tag=\"Energy\")"
   ]
  },
  {
   "cell_type": "code",
   "execution_count": null,
   "id": "1",
   "metadata": {},
   "outputs": [],
   "source": [
    "float(mol.GetConformer(0).GetProp(\"Energy\")) - float(\n",
    "    mol.GetConformer(3).GetProp(\"Energy\")\n",
    ")"
   ]
  },
  {
   "cell_type": "code",
   "execution_count": null,
   "id": "2",
   "metadata": {},
   "outputs": [],
   "source": [
    "mol.GetConformer(2).GetProp(\"Energy\")"
   ]
  },
  {
   "cell_type": "code",
   "execution_count": null,
   "id": "3",
   "metadata": {},
   "outputs": [],
   "source": [
    "import toml\n",
    "\n",
    "config = {\n",
    "    \"input\": \"/tmp/bla/crest_ensemble.xyz\",\n",
    "    \"runtype\": \"screen_ensemble\",\n",
    "    \"threads\": 8,\n",
    "    \"topo\": False,\n",
    "    \"calculation\": {\n",
    "        \"level\": [\n",
    "            {\n",
    "                \"method\": \"gfn2\",\n",
    "                \"charge\": 0,\n",
    "                \"uhf\": 0,\n",
    "            }\n",
    "        ]\n",
    "    },\n",
    "}\n",
    "\n",
    "with open(\"/tmp/bla/input.toml\", \"w\") as f:\n",
    "    toml.dump(config, f)\n",
    "\n",
    "!crest /tmp/bla/input.toml --screen /tmp/bla/crest_ensemble.xyz"
   ]
  },
  {
   "cell_type": "code",
   "execution_count": null,
   "id": "4",
   "metadata": {},
   "outputs": [],
   "source": [
    "!ls tmp/bla/"
   ]
  },
  {
   "cell_type": "code",
   "execution_count": null,
   "id": "5",
   "metadata": {},
   "outputs": [],
   "source": []
  },
  {
   "cell_type": "code",
   "execution_count": null,
   "id": "6",
   "metadata": {},
   "outputs": [],
   "source": []
  }
 ],
 "metadata": {
  "kernelspec": {
   "display_name": "Python 3 (ipykernel)",
   "language": "python",
   "name": "python3"
  },
  "language_info": {
   "codemirror_mode": {
    "name": "ipython",
    "version": 3
   },
   "file_extension": ".py",
   "mimetype": "text/x-python",
   "name": "python",
   "nbconvert_exporter": "python",
   "pygments_lexer": "ipython3",
   "version": "3.12.11"
  }
 },
 "nbformat": 4,
 "nbformat_minor": 5
}
